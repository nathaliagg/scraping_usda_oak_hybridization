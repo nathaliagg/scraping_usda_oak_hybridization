{
 "cells": [
  {
   "cell_type": "markdown",
   "metadata": {
    "toc": true
   },
   "source": [
    "<h1>Table of Contents<span class=\"tocSkip\"></span></h1>\n",
    "<div class=\"toc\"><ul class=\"toc-item\"><li><span><a href=\"#Load-libraries\" data-toc-modified-id=\"Load-libraries-1\"><span class=\"toc-item-num\">1&nbsp;&nbsp;</span>Load libraries</a></span></li><li><span><a href=\"#Load-webpage\" data-toc-modified-id=\"Load-webpage-2\"><span class=\"toc-item-num\">2&nbsp;&nbsp;</span>Load webpage</a></span></li><li><span><a href=\"#Scraping\" data-toc-modified-id=\"Scraping-3\"><span class=\"toc-item-num\">3&nbsp;&nbsp;</span>Scraping</a></span><ul class=\"toc-item\"><li><span><a href=\"#How-many-hybrid-oaks-registered-in-their-system?\" data-toc-modified-id=\"How-many-hybrid-oaks-registered-in-their-system?-3.1\"><span class=\"toc-item-num\">3.1&nbsp;&nbsp;</span>How many hybrid oaks registered in their system?</a></span></li><li><span><a href=\"#Extract-species-name-(hybrid-and-parents)-into-a-dataframe\" data-toc-modified-id=\"Extract-species-name-(hybrid-and-parents)-into-a-dataframe-3.2\"><span class=\"toc-item-num\">3.2&nbsp;&nbsp;</span>Extract species name (hybrid and parents) into a dataframe</a></span></li></ul></li></ul></div>"
   ]
  },
  {
   "cell_type": "markdown",
   "metadata": {},
   "source": [
    "# Load libraries"
   ]
  },
  {
   "cell_type": "code",
   "execution_count": 1,
   "metadata": {},
   "outputs": [],
   "source": [
    "import pandas as pd\n",
    "import numpy as np\n",
    "import re\n",
    "from bs4 import BeautifulSoup as bs\n",
    "import networkx as nx\n",
    "from pyvis.network import Network\n",
    "import matplotlib.pyplot as plt"
   ]
  },
  {
   "cell_type": "markdown",
   "metadata": {},
   "source": [
    "# Load webpage\n",
    "\n",
    "The webpage is the [USDA Plants Database](https://plants.sc.egov.usda.gov/java/). This website is quite useful because it contains standardized information about many plants species in the US. \n",
    "\n",
    "There are more than 500 species of oaks in the [world](http://plantsoftheworldonline.org/taxon/urn:lsid:ipni.org:names:325819-2), and the US has 90 oak [species](https://en.wikipedia.org/wiki/Oak)\n",
    "\n",
    "I searched for *Quercus*, which is the genus name of oak, and it yielded 377 records. My **goal** is to extract the hybrid oak species to obtain their parents.\n",
    "\n",
    "[How to import an html file in bs](http://zetcode.com/python/beautifulsoup/)"
   ]
  },
  {
   "cell_type": "code",
   "execution_count": 2,
   "metadata": {},
   "outputs": [],
   "source": [
    "## htm file path\n",
    "webpage_file = \"usda_plants_quercus_search.htm\"\n",
    "\n",
    "## open\n",
    "with open(webpage_file, 'r') as f:\n",
    "    contents = f.read()\n",
    "    soup = bs(contents, 'lxml')\n",
    "    \n",
    "## print\n",
    "# print(soup.prettify())"
   ]
  },
  {
   "cell_type": "markdown",
   "metadata": {},
   "source": [
    "# Scraping"
   ]
  },
  {
   "cell_type": "code",
   "execution_count": 3,
   "metadata": {},
   "outputs": [],
   "source": [
    "## inspect the page, find the main table\n",
    "## find good tags to extract information\n",
    "result_table = soup.find_all(['tr','td','em'], attrs={'class':'rowon'})\n",
    "\n",
    "# result_table"
   ]
  },
  {
   "cell_type": "markdown",
   "metadata": {},
   "source": [
    "A lot of information in `result_table`. \n",
    "\n",
    "The hybrid species have `hybrid oak` as their common name,   \n",
    "and the parent species are written like so: *Q. xhybrid \\[parent_species1 x parent_species2\\]*"
   ]
  },
  {
   "cell_type": "markdown",
   "metadata": {},
   "source": [
    "## How many hybrid oaks registered in their system?"
   ]
  },
  {
   "cell_type": "code",
   "execution_count": 4,
   "metadata": {},
   "outputs": [
    {
     "name": "stdout",
     "output_type": "stream",
     "text": [
      "There are 81 hybrid oak species in the USDA Plants Database.\n"
     ]
    }
   ],
   "source": [
    "## the output of find_all is a list, so we can use len()\n",
    "## using re.IGNORECASE to account for potential capitalization\n",
    "\n",
    "result_hybrids = soup.find_all('td', string = re.compile(\"hybrid oak\", re.IGNORECASE))\n",
    "\n",
    "print(f'There are {len(result_hybrids)} hybrid oak species in the USDA Plants Database.')"
   ]
  },
  {
   "cell_type": "markdown",
   "metadata": {},
   "source": [
    "## Extract species name (hybrid and parents) into a dataframe"
   ]
  },
  {
   "cell_type": "markdown",
   "metadata": {},
   "source": [
    "Use `re` to search each list and get the hybrid species parents.\n",
    "\n",
    "There are `em` and `i` tags. The `em` tags have the hybrid species name, and the `i` tags have the parent species. There **two** exceptions to this rule, though:\n",
    "\n",
    "1. There is one hybrid species that doesn't have a name, so the species have is the name of both parents `== alba × virginiana`.  \n",
    "2. There is another hybrid species that has a name, but there are two potential crossings that can result in that hybrid `== bicolor x (muehlenbergii, prinoides)`. At least, I think that's what this means..."
   ]
  },
  {
   "cell_type": "code",
   "execution_count": 5,
   "metadata": {
    "scrolled": true
   },
   "outputs": [
    {
     "data": {
      "text/html": [
       "<div>\n",
       "<style scoped>\n",
       "    .dataframe tbody tr th:only-of-type {\n",
       "        vertical-align: middle;\n",
       "    }\n",
       "\n",
       "    .dataframe tbody tr th {\n",
       "        vertical-align: top;\n",
       "    }\n",
       "\n",
       "    .dataframe thead th {\n",
       "        text-align: right;\n",
       "    }\n",
       "</style>\n",
       "<table border=\"1\" class=\"dataframe\">\n",
       "  <thead>\n",
       "    <tr style=\"text-align: right;\">\n",
       "      <th></th>\n",
       "      <th>hybrid</th>\n",
       "      <th>parent1</th>\n",
       "      <th>parent2</th>\n",
       "    </tr>\n",
       "  </thead>\n",
       "  <tbody>\n",
       "    <tr>\n",
       "      <th>0</th>\n",
       "      <td>Q. acutidens</td>\n",
       "      <td>Q. cornelius-mulleri</td>\n",
       "      <td>Q. engelmannii</td>\n",
       "    </tr>\n",
       "    <tr>\n",
       "      <th>1</th>\n",
       "      <td>Q. ashei</td>\n",
       "      <td>Q. incana</td>\n",
       "      <td>Q. laevis</td>\n",
       "    </tr>\n",
       "    <tr>\n",
       "      <th>2</th>\n",
       "      <td>Q. atlantica</td>\n",
       "      <td>Q. incana</td>\n",
       "      <td>Q. laurifolia</td>\n",
       "    </tr>\n",
       "    <tr>\n",
       "      <th>3</th>\n",
       "      <td>Q. bebbiana</td>\n",
       "      <td>Q. alba</td>\n",
       "      <td>Q. macrocarpa</td>\n",
       "    </tr>\n",
       "    <tr>\n",
       "      <th>4</th>\n",
       "      <td>Q. beckyae</td>\n",
       "      <td>Q. macrocarpa</td>\n",
       "      <td>Q. prinoides</td>\n",
       "    </tr>\n",
       "  </tbody>\n",
       "</table>\n",
       "</div>"
      ],
      "text/plain": [
       "         hybrid               parent1         parent2\n",
       "0  Q. acutidens  Q. cornelius-mulleri  Q. engelmannii\n",
       "1      Q. ashei             Q. incana       Q. laevis\n",
       "2  Q. atlantica             Q. incana   Q. laurifolia\n",
       "3   Q. bebbiana               Q. alba   Q. macrocarpa\n",
       "4    Q. beckyae         Q. macrocarpa    Q. prinoides"
      ]
     },
     "execution_count": 5,
     "metadata": {},
     "output_type": "execute_result"
    }
   ],
   "source": [
    "list_hybrids_parents = []\n",
    "\n",
    "for res in result_table:\n",
    "    \n",
    "    temp = res.find(string = re.compile(\"hybrid oak\", re.IGNORECASE))\n",
    "    \n",
    "    if temp != None:\n",
    "        # print(res)\n",
    "        \n",
    "        # get the exception:\n",
    "        hybrid = res.find_all(['em', 'i'])  # this is ResultSet\n",
    "        list_hybrids_parents.append([\"Q. \"+x.string.strip() for x in hybrid][1:])\n",
    "\n",
    "        \n",
    "for index, l in enumerate(list_hybrids_parents):\n",
    "    \n",
    "    if len(l) > 3:\n",
    "        exception2 = list_hybrids_parents.pop(index)\n",
    "        for index,e in enumerate(exception2):\n",
    "            exception2[index] = e.replace('(', '').replace(')','')\n",
    "        for el in [2,3]:\n",
    "            list_hybrids_parents.append([x for index,x in enumerate(exception2) if index != el])\n",
    "            \n",
    "    elif len(l) < 3:  # alba × virginiana\n",
    "        a_list = [x for index,x in enumerate(l[0].split()) if index !=2 ]\n",
    "        a_list[0] = 'Q. unknown'\n",
    "        a_list[1] = 'Q. alba'\n",
    "        a_list[2] = 'Q. virginiana'\n",
    "        list_hybrids_parents.append(a_list)\n",
    "        list_hybrids_parents.pop(index)\n",
    "        \n",
    "    else:\n",
    "        continue\n",
    "        \n",
    "            \n",
    "# list_hybrids_parents\n",
    "df = pd.DataFrame(list_hybrids_parents, columns = ['hybrid', 'parent1', 'parent2'])\n",
    "df.head()"
   ]
  },
  {
   "cell_type": "code",
   "execution_count": 6,
   "metadata": {},
   "outputs": [],
   "source": [
    "G = nx.Graph()\n",
    "G = nx.from_pandas_edgelist(df, 'parent1', \"parent2\", [\"hybrid\"])\n",
    "# nx.draw(G)\n",
    "nx.write_gml(G, \"oak_hybridization.graphml\")\n",
    "\n",
    "nt = Network(\"1000px\", \"1000px\")\n",
    "nt.from_nx(G)\n",
    "nt.show(\"nx.html\")"
   ]
  },
  {
   "cell_type": "code",
   "execution_count": null,
   "metadata": {},
   "outputs": [],
   "source": []
  }
 ],
 "metadata": {
  "kernelspec": {
   "display_name": "Python 3",
   "language": "python",
   "name": "python3"
  },
  "language_info": {
   "codemirror_mode": {
    "name": "ipython",
    "version": 3
   },
   "file_extension": ".py",
   "mimetype": "text/x-python",
   "name": "python",
   "nbconvert_exporter": "python",
   "pygments_lexer": "ipython3",
   "version": "3.9.0"
  },
  "toc": {
   "base_numbering": 1,
   "nav_menu": {},
   "number_sections": true,
   "sideBar": true,
   "skip_h1_title": false,
   "title_cell": "Table of Contents",
   "title_sidebar": "Contents",
   "toc_cell": true,
   "toc_position": {},
   "toc_section_display": true,
   "toc_window_display": true
  },
  "varInspector": {
   "cols": {
    "lenName": 16,
    "lenType": 16,
    "lenVar": 40
   },
   "kernels_config": {
    "python": {
     "delete_cmd_postfix": "",
     "delete_cmd_prefix": "del ",
     "library": "var_list.py",
     "varRefreshCmd": "print(var_dic_list())"
    },
    "r": {
     "delete_cmd_postfix": ") ",
     "delete_cmd_prefix": "rm(",
     "library": "var_list.r",
     "varRefreshCmd": "cat(var_dic_list()) "
    }
   },
   "position": {
    "height": "380.977px",
    "left": "1023.26px",
    "right": "20px",
    "top": "120px",
    "width": "380.488px"
   },
   "types_to_exclude": [
    "module",
    "function",
    "builtin_function_or_method",
    "instance",
    "_Feature"
   ],
   "window_display": false
  }
 },
 "nbformat": 4,
 "nbformat_minor": 4
}
